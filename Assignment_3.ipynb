{
 "cells": [
  {
   "cell_type": "markdown",
   "metadata": {},
   "source": [
    "# ROOT FINDING"
   ]
  },
  {
   "cell_type": "markdown",
   "metadata": {},
   "source": [
    "### Bisection"
   ]
  },
  {
   "cell_type": "code",
   "execution_count": 5,
   "metadata": {},
   "outputs": [
    {
     "name": "stdout",
     "output_type": "stream",
     "text": [
      "Input xl5\n",
      "Input xu3\n",
      "3.1622776612639427\n"
     ]
    }
   ],
   "source": [
    "import sympy as sym\n",
    "\n",
    "sym.init_printing(use_latex=True)\n",
    "\n",
    "xm, xl, xu, x = sym.symbols('xm xl xu x')\n",
    "\n",
    "try:\n",
    "    xl = float(input(\"Input xl: \"))\n",
    "    xu = float(input(\"Input xu: \"))\n",
    "\n",
    "    fx = (x ** 2) - 2\n",
    "\n",
    "    while fx.subs(x, xl) * fx.subs(x, xu) < 0:\n",
    "        xm = (xl + xu) / 2\n",
    "        if fx.subs(x, xl) * fx.subs(x, xm) < 0:\n",
    "            xu = xm\n",
    "        else:\n",
    "            xl = xm\n",
    "\n",
    "        if abs(fx.subs(x, xm)) < 10 ** -8:\n",
    "            print(xm)\n",
    "            break\n",
    "\n",
    "except ValueError:\n",
    "    print(\"Please input numbers\")"
   ]
  },
  {
   "cell_type": "markdown",
   "metadata": {},
   "source": [
    "### False Position method"
   ]
  },
  {
   "cell_type": "code",
   "execution_count": 6,
   "metadata": {},
   "outputs": [
    {
     "name": "stdout",
     "output_type": "stream",
     "text": [
      "Input xl5\n",
      "Input xu3\n",
      "3.16227765953211\n"
     ]
    }
   ],
   "source": [
    "import sympy as sym\n",
    "\n",
    "sym.init_printing(use_latex=True)\n",
    "\n",
    "xm, xl, xu, x = sym.symbols('xm xl xu x')\n",
    "\n",
    "try:\n",
    "    xl = float(input(\"Input xl: \"))\n",
    "    xu = float(input(\"Input xu: \"))\n",
    "\n",
    "    fx = (x ** 2) - 2\n",
    "\n",
    "    while fx.subs(x, xl) * fx.subs(x, xu) < 0:\n",
    "        xm = xu - (fx.subs(x, xu) * (xl-xu))/(fx.subs(x, xl) - fx.subs(x, xu))\n",
    "        if fx.subs(x, xl) * fx.subs(x, xm) < 0:\n",
    "            xu = xm\n",
    "        else:\n",
    "            xl = xm\n",
    "\n",
    "        if abs(fx.subs(x, xm)) < 10 ** -8:\n",
    "            print(xm)\n",
    "            break\n",
    "\n",
    "except ValueError:\n",
    "    print(\"Please input numbers\")"
   ]
  },
  {
   "cell_type": "markdown",
   "metadata": {},
   "source": [
    "### Newton method"
   ]
  },
  {
   "cell_type": "code",
   "execution_count": 8,
   "metadata": {},
   "outputs": [
    {
     "name": "stdout",
     "output_type": "stream",
     "text": [
      "Input x5\n",
      "1.4142135623730951\n"
     ]
    }
   ],
   "source": [
    "import sympy as sym\n",
    "\n",
    "sym.init_printing(use_latex=True)\n",
    "\n",
    "def f(x):\n",
    "    return x**2 - 2\n",
    "\n",
    "try:\n",
    "    x1 = float(input(\"Input x: \"))\n",
    "\n",
    "    h = 1.0E-6\n",
    "    while True:\n",
    "        g = (f(x1+h) - f(x1-h))/ (2*h)\n",
    "        x1 = x1 - f(x1)/g\n",
    "        \n",
    "        # x = x - fx / sym.diff(fx, x)\n",
    "        if abs(f(x1)) < 10 ** -8:\n",
    "            print(x1)\n",
    "            break\n",
    "\n",
    "except ValueError:\n",
    "    print(\"Please input numbers\")"
   ]
  }
 ],
 "metadata": {
  "kernelspec": {
   "display_name": "Python 3",
   "language": "python",
   "name": "python3"
  },
  "language_info": {
   "codemirror_mode": {
    "name": "ipython",
    "version": 3
   },
   "file_extension": ".py",
   "mimetype": "text/x-python",
   "name": "python",
   "nbconvert_exporter": "python",
   "pygments_lexer": "ipython3",
   "version": "3.6.4"
  }
 },
 "nbformat": 4,
 "nbformat_minor": 2
}
