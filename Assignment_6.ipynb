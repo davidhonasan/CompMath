{
 "cells": [
  {
   "cell_type": "markdown",
   "metadata": {},
   "source": [
    "## 1. Use the Taylor series and derive polynomial for:"
   ]
  },
  {
   "cell_type": "markdown",
   "metadata": {},
   "source": [
    "$$\\sin(2x)$$"
   ]
  },
  {
   "cell_type": "markdown",
   "metadata": {},
   "source": [
    "$f(x) = f(0) + f'(0)x + \\frac{f''(0)}{2!} x^2 + \\frac{f'''(0)}{3!} x^3 + \\frac{f''''(0)}{4!} x^4 + \\cdots$"
   ]
  },
  {
   "cell_type": "markdown",
   "metadata": {},
   "source": [
    "$f(x) = \\sin(2x) \\rightarrow f(0) = \\sin(0) = 0 $"
   ]
  },
  {
   "cell_type": "markdown",
   "metadata": {},
   "source": [
    "$f'(x) = \\cos(2x) \\rightarrow f'(0) = \\cos(0) = 1 $"
   ]
  },
  {
   "cell_type": "markdown",
   "metadata": {},
   "source": [
    "$f''(x) = -\\sin(2x) \\rightarrow f'(0) = -\\sin(0) = 0 $"
   ]
  },
  {
   "cell_type": "markdown",
   "metadata": {},
   "source": [
    "$f'''(x) = -\\cos(2x) \\rightarrow f'(0) = -\\cos(0) = -1 $"
   ]
  },
  {
   "cell_type": "markdown",
   "metadata": {},
   "source": [
    "$f''''(x) = \\sin(2x) \\rightarrow f'(0) = \\sin(0) = 0 $"
   ]
  },
  {
   "cell_type": "markdown",
   "metadata": {},
   "source": [
    "$\\sin(2x) = 2x - \\frac{4}{3}x^3 + \\frac{4}{15}x^5 - \\frac{8}{315}x^7 + \\frac{4}{2835}x^9 + \\cdots$"
   ]
  },
  {
   "cell_type": "markdown",
   "metadata": {},
   "source": [
    "## 2. Numerical Integration\n",
    "\n",
    "$$\\int_{0}^{\\pi} 1 + \\sin(x)dx$$"
   ]
  },
  {
   "cell_type": "code",
   "execution_count": 25,
   "metadata": {
    "scrolled": true
   },
   "outputs": [
    {
     "data": {
      "image/png": "[encoded data removed]",
      "text/plain": [
       "<matplotlib.figure.Figure at 0x16124f18f60>"
      ]
     },
     "metadata": {},
     "output_type": "display_data"
    }
   ],
   "source": [
    "import numpy as np\n",
    "import sympy as sp\n",
    "import matplotlib.pyplot as plt\n",
    "\n",
    "\n",
    "def f(x):\n",
    "    return 1 + np.sin(x)\n",
    "\n",
    "def trap(n):\n",
    "    nump = n+1\n",
    "    x = np.linspace(0, np.pi, nump)\n",
    "\n",
    "    deltax = x[1] - x[0]\n",
    "    w = 2 * np.ones(nump)\n",
    "    w[0] = 1\n",
    "    w[-1] = 1\n",
    "    area = sum(w*f(x)) * deltax * (1/2)\n",
    "    return area\n",
    "\n",
    "yplot = [trap(2), trap(4), trap(8), trap(16)]\n",
    "xplot = [2, 4, 8, 16]\n",
    "plt.figure(1)\n",
    "plt.clf()\n",
    "ax = plt.subplot(1,2,1)\n",
    "bx = plt.subplot(1,2,2)\n",
    "plt.title('Percentage of error to tries')\n",
    "\n",
    "x1 = sp.symbols('x1')\n",
    "r = sp.integrate(1+sp.sin(x1), (x1, 0, sp.pi)).evalf()\n",
    "\n",
    "ax.plot([0,16], [r,r])\n",
    "ax.plot(xplot, yplot, 'r')\n",
    "\n",
    "for i in range(len(yplot)):\n",
    "    yplot[i] = (r-yplot[i])/r *100\n",
    "bx.plot(xplot,yplot)\n",
    "plt.show()"
   ]
  },
  {
   "cell_type": "markdown",
   "metadata": {},
   "source": [
    "## 3. Numerical Difference"
   ]
  },
  {
   "cell_type": "code",
   "execution_count": 26,
   "metadata": {},
   "outputs": [],
   "source": [
    "import numpy as np\n",
    "import matplotlib.pyplot as plt\n",
    "\n",
    "h = 0.5\n",
    "xp = np.linspace(0, 2 * np.pi, 50)\n",
    "\n",
    "def f(x):\n",
    "    return np.sin(x)"
   ]
  },
  {
   "cell_type": "markdown",
   "metadata": {},
   "source": [
    "Central Differential Function"
   ]
  },
  {
   "cell_type": "code",
   "execution_count": 27,
   "metadata": {},
   "outputs": [],
   "source": [
    "def f1cd(x):\n",
    "    return (f(x+h)-f(x-h))/(2*h)\n",
    "\n",
    "def f2cd(x):\n",
    "    return (f(x+h)-2*f(x)+f(x-h))/(h**2)\n",
    "\n",
    "def f3cd(x):\n",
    "    return (f(x+2*h)-2*f(x+h)+2*f(x-h)-f(x-2*h))/(2*h**3)\n",
    "\n",
    "y1cd = f1cd(xp)\n",
    "y2cd = f2cd(xp)\n",
    "y3cd = f3cd(xp)"
   ]
  },
  {
   "cell_type": "markdown",
   "metadata": {},
   "source": [
    "Forward Differential Function"
   ]
  },
  {
   "cell_type": "code",
   "execution_count": 28,
   "metadata": {},
   "outputs": [],
   "source": [
    "def f1fd(x):\n",
    "    return (f(x+h)-f(x))/h\n",
    "def f2fd(x):\n",
    "    return (f(x+2*h)-2*f(x+h)+f(x))/h**2\n",
    "def f3fd(x):\n",
    "    return (f(x+3*h)-3*f(x+2*h)+3*f(x+h)-f(x))/h**3\n",
    "\n",
    "y1fd = f1fd(xp)\n",
    "y2fd = f2fd(xp)\n",
    "y3fd = f3fd(xp)"
   ]
  },
  {
   "cell_type": "markdown",
   "metadata": {},
   "source": [
    "Backward Differential Function"
   ]
  },
  {
   "cell_type": "code",
   "execution_count": 29,
   "metadata": {},
   "outputs": [],
   "source": [
    "def f1bd(x):\n",
    "    return (f(x)-f(x-h))/h\n",
    "\n",
    "def f2bd(x):\n",
    "    return (f(x)-2*f(x-h)+f(x-2*h))/h**2\n",
    "\n",
    "def f3bd(x):\n",
    "    return (f(x)-3*f(x-h)+3*f(x-2*h)-f(x-3*h))/h**3\n",
    "\n",
    "y1bd = f1bd(xp)\n",
    "y2bd = f2bd(xp)\n",
    "y3bd = f3bd(xp)"
   ]
  },
  {
   "cell_type": "markdown",
   "metadata": {},
   "source": [
    "First Diff"
   ]
  },
  {
   "cell_type": "code",
   "execution_count": 30,
   "metadata": {},
   "outputs": [
    {
     "data": {
      "image/png": "[encoded data removed]",
      "text/plain": [
       "<matplotlib.figure.Figure at 0x161250b0eb8>"
      ]
     },
     "metadata": {},
     "output_type": "display_data"
    }
   ],
   "source": [
    "plt.plot(xp,np.cos(xp),\".\") # Real\n",
    "plt.plot(xp,y1cd,\".\") # Central\n",
    "plt.plot(xp,y1fd,\".\") # Forward\n",
    "plt.plot(xp,y1bd,\".\") # Backward\n",
    "plt.show()"
   ]
  },
  {
   "cell_type": "markdown",
   "metadata": {},
   "source": [
    "Second Diff"
   ]
  },
  {
   "cell_type": "code",
   "execution_count": 31,
   "metadata": {},
   "outputs": [
    {
     "data": {
      "image/png": "[encoded data removed]",
      "text/plain": [
       "<matplotlib.figure.Figure at 0x16124ec1748>"
      ]
     },
     "metadata": {},
     "output_type": "display_data"
    }
   ],
   "source": [
    "plt.plot(xp,-np.sin(xp),\".\") # Real\n",
    "plt.plot(xp,y2cd,\".\") # Central\n",
    "plt.plot(xp,y2fd,\".\") # Forward\n",
    "plt.plot(xp,y2bd,\".\") # Backward\n",
    "plt.show()"
   ]
  },
  {
   "cell_type": "markdown",
   "metadata": {},
   "source": [
    "Third Diff"
   ]
  },
  {
   "cell_type": "code",
   "execution_count": 32,
   "metadata": {},
   "outputs": [
    {
     "data": {
      "image/png": "[encoded data removed]",
      "text/plain": [
       "<matplotlib.figure.Figure at 0x16124f97b38>"
      ]
     },
     "metadata": {},
     "output_type": "display_data"
    }
   ],
   "source": [
    "plt.plot(xp,-np.cos(xp),\".\") # Real\n",
    "plt.plot(xp,y3cd,\".\") # Central\n",
    "plt.plot(xp,y3fd,\".\") # Forward\n",
    "plt.plot(xp,y3bd,\".\") # Backward\n",
    "plt.show()"
   ]
  }
 ],
 "metadata": {
  "kernelspec": {
   "display_name": "Python 3",
   "language": "python",
   "name": "python3"
  },
  "language_info": {
   "codemirror_mode": {
    "name": "ipython",
    "version": 3
   },
   "file_extension": ".py",
   "mimetype": "text/x-python",
   "name": "python",
   "nbconvert_exporter": "python",
   "pygments_lexer": "ipython3",
   "version": "3.6.4"
  }
 },
 "nbformat": 4,
 "nbformat_minor": 2
}
