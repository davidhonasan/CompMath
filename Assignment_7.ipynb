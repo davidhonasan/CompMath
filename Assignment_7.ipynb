{
 "cells": [
  {
   "cell_type": "code",
   "execution_count": 7,
   "metadata": {},
   "outputs": [],
   "source": [
    "import numpy as np\n",
    "import matplotlib.pyplot as plt\n",
    "\n",
    "def f(x):\n",
    "    return np.log(x) / (x**2 - 2*x + 2)"
   ]
  },
  {
   "cell_type": "markdown",
   "metadata": {},
   "source": [
    "## 1. Trapezoidal Rule"
   ]
  },
  {
   "cell_type": "code",
   "execution_count": 8,
   "metadata": {},
   "outputs": [],
   "source": [
    "def trap(n):\n",
    "    nump = n+1\n",
    "    x = np.linspace(1, np.pi, nump)\n",
    "\n",
    "    deltax = x[1] - x[0]\n",
    "    w = 2 * np.ones(nump)\n",
    "    w[0] = 1\n",
    "    w[-1] = 1\n",
    "    area = np.sum(w*f(x)) * deltax * (1/2)\n",
    "    return area\n",
    "\n",
    "x1plot = [4, 8, 16]\n",
    "y1plot = [trap(x1plot[0]), trap(x1plot[1]), trap(x1plot[2])]"
   ]
  },
  {
   "cell_type": "markdown",
   "metadata": {},
   "source": [
    "## 2. Simpson's 1/3 Rule"
   ]
  },
  {
   "cell_type": "code",
   "execution_count": 9,
   "metadata": {},
   "outputs": [],
   "source": [
    "def simp(n):\n",
    "    nump = n+1\n",
    "    x = np.linspace(1, np.pi, nump)\n",
    "    h = x[1] - x[0]\n",
    "    w = 4 * np.ones(nump)\n",
    "    w[0:-1:2] = 2\n",
    "    w[0] = 1\n",
    "    w[-1] = 1\n",
    "    area = np.sum(w*f(x)) * h * (1/3)\n",
    "    return area\n",
    "\n",
    "x2plot = [4, 8, 16]\n",
    "y2plot = [simp(x2plot[0]), simp(x2plot[1]), simp(x2plot[2])]"
   ]
  },
  {
   "cell_type": "markdown",
   "metadata": {},
   "source": [
    "## 3. Gauss-Legendre Quadrature"
   ]
  },
  {
   "cell_type": "code",
   "execution_count": 10,
   "metadata": {},
   "outputs": [],
   "source": [
    "def gauss(n):\n",
    "    if n == 2:\n",
    "        zeta = np.array([-0.774597, 0.000000, 0.774597])\n",
    "        A = np.array([0.555556, 0.888889, 0.555556])\n",
    "    a = 1\n",
    "    b = np.pi\n",
    "    x = ((b+a)/2) + ((b-a)/2) * zeta\n",
    "    area = ((b-a)/2) * np.sum(A*f(x))\n",
    "    return area\n",
    "\n",
    "x3plot = [4, 16]\n",
    "y3plot = [gauss(2), gauss(2)]"
   ]
  },
  {
   "cell_type": "markdown",
   "metadata": {},
   "source": [
    "## Graph"
   ]
  },
  {
   "cell_type": "code",
   "execution_count": 34,
   "metadata": {},
   "outputs": [
    {
     "data": {
      "image/png": "[encoded data removed]",
      "text/plain": [
       "<matplotlib.figure.Figure at 0x1e466f1cc50>"
      ]
     },
     "metadata": {},
     "output_type": "display_data"
    }
   ],
   "source": [
    "plt.figure(1)\n",
    "plt.clf()\n",
    "\n",
    "plt1, = plt.plot(x1plot, y1plot, label=\"Trapezoidal\")\n",
    "plt2, = plt.plot(x2plot, y2plot, label=\"Simpson 1/3\")\n",
    "plt3, = plt.plot(x3plot, y3plot, label=\"Gauss\")\n",
    "plt.legend()\n",
    "plt.show()"
   ]
  }
 ],
 "metadata": {
  "kernelspec": {
   "display_name": "Python 3",
   "language": "python",
   "name": "python3"
  },
  "language_info": {
   "codemirror_mode": {
    "name": "ipython",
    "version": 3
   },
   "file_extension": ".py",
   "mimetype": "text/x-python",
   "name": "python",
   "nbconvert_exporter": "python",
   "pygments_lexer": "ipython3",
   "version": "3.6.4"
  }
 },
 "nbformat": 4,
 "nbformat_minor": 2
}
