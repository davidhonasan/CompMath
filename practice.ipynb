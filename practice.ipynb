{
 "cells": [
  {
   "cell_type": "code",
   "execution_count": 39,
   "metadata": {},
   "outputs": [],
   "source": [
    "import sympy as sp\n",
    "import numpy as np\n",
    "import matplotlib.pyplot as plt"
   ]
  },
  {
   "cell_type": "markdown",
   "metadata": {},
   "source": [
    "## 1. Estimate $\\sin(\\pi/3)$ using Maclaurin series for n = 10 then calculate the error between exact value and the estimation."
   ]
  },
  {
   "cell_type": "code",
   "execution_count": 83,
   "metadata": {},
   "outputs": [
    {
     "name": "stdout",
     "output_type": "stream",
     "text": [
      "Real: \t\t 0.8660254037844386\n",
      "Estimation: \t 0.8660254037844386\n"
     ]
    }
   ],
   "source": [
    "def maclaurin(n):\n",
    "    value = 0\n",
    "    for i in range(n):\n",
    "        value += (((-1)**i)/np.math.factorial(2*i+1)) * (np.pi/3)**(2*i+1)\n",
    "    return value\n",
    "\n",
    "print(\"Real: \\t\\t\", np.sin(np.pi/3))\n",
    "print(\"Estimation: \\t\", maclaurin(10))"
   ]
  },
  {
   "cell_type": "markdown",
   "metadata": {},
   "source": [
    "## 2. Plot the absolute error of the sin(p/3) estimation for different values of n e.g.  n = 5, 10, 20, 50, 100 where absolute error = |exact_value – estimated_value|"
   ]
  },
  {
   "cell_type": "code",
   "execution_count": 93,
   "metadata": {},
   "outputs": [
    {
     "data": {
      "text/plain": [
       "Text(0.5,0,'n')"
      ]
     },
     "execution_count": 93,
     "metadata": {},
     "output_type": "execute_result"
    },
    {
     "data": {
      "image/png": "[encoded data removed]",
      "text/plain": [
       "<matplotlib.figure.Figure at 0x23417688390>"
      ]
     },
     "metadata": {},
     "output_type": "display_data"
    }
   ],
   "source": [
    "xplot = [5, 10, 20, 50, 100]\n",
    "maclaurinlist = [maclaurin(xplot[0]), maclaurin(xplot[1]), maclaurin(xplot[2]), maclaurin(xplot[3]), maclaurin(xplot[4])]\n",
    "y1plot = abs(maclaurinlist - np.sin(np.pi/3))\n",
    "plt.clf()\n",
    "plt1 = plt.plot(x1plot, y1plot)\n",
    "plt.title(\"Absolute error\")\n",
    "plt.xlabel(\"n\")"
   ]
  },
  {
   "cell_type": "markdown",
   "metadata": {},
   "source": [
    "## 3. Use sympy to calculate\n",
    "$$\\int_0^{\\pi/2} \\dfrac {\\sin x}{1+x^2}dx $$"
   ]
  },
  {
   "cell_type": "code",
   "execution_count": 3,
   "metadata": {},
   "outputs": [
    {
     "name": "stdout",
     "output_type": "stream",
     "text": [
      "Result: 0.526978557613989\n"
     ]
    }
   ],
   "source": [
    "x = sp.Symbol('x')\n",
    "expr = sp.sin(x)/(1+x**2)\n",
    "result = sp.integrate(expr, (x, 0, sp.pi/2)).evalf()\n",
    "print(\"Result:\", result)"
   ]
  },
  {
   "cell_type": "markdown",
   "metadata": {},
   "source": [
    "## 4. Estimate the integration of the problem number 3 using Simpson’s 1/3 rule for different number of intervals then calculate the error in % where error(%) = 100 * | exact_value – estimated_value | /exact_value."
   ]
  },
  {
   "cell_type": "code",
   "execution_count": 29,
   "metadata": {},
   "outputs": [
    {
     "name": "stdout",
     "output_type": "stream",
     "text": [
      "n \t estimation \t\t error(%)\n",
      "2 \t 0.5334802138143637 \t 1.23376105278593\n",
      "5 \t 0.4929729013513689 \t 6.45294875309317\n",
      "10 \t 0.5270051529705841 \t 0.00504676256948654\n",
      "100 \t 0.5269785601186373 \t 4.75284600732003e-7\n"
     ]
    }
   ],
   "source": [
    "def g(x):\n",
    "    return np.sin(x) / (1+x**2)\n",
    "\n",
    "def simp(n):\n",
    "    nump = n+1\n",
    "    x = np.linspace(0, np.pi/2, nump)\n",
    "    h = x[1] - x[0]\n",
    "    w = 4 * np.ones(nump)\n",
    "    w[0:-1:2] = 2\n",
    "    w[0] = 1\n",
    "    w[-1] = 1\n",
    "    area = np.sum(w*g(x)) * h * (1/3)\n",
    "    return area\n",
    "\n",
    "nlist = [2, 5, 10, 100]\n",
    "simplist = [simp(nlist[0]), simp(nlist[1]), simp(nlist[2]), simp(nlist[3])]\n",
    "print(\"n \\t estimation \\t\\t error(%)\")\n",
    "for i in range(4):\n",
    "    print(nlist[i], \"\\t\", simplist[i], \"\\t\", 100*abs(result-simplist[i])/result)"
   ]
  }
 ],
 "metadata": {
  "kernelspec": {
   "display_name": "Python 3",
   "language": "python",
   "name": "python3"
  },
  "language_info": {
   "codemirror_mode": {
    "name": "ipython",
    "version": 3
   },
   "file_extension": ".py",
   "mimetype": "text/x-python",
   "name": "python",
   "nbconvert_exporter": "python",
   "pygments_lexer": "ipython3",
   "version": "3.6.4"
  }
 },
 "nbformat": 4,
 "nbformat_minor": 2
}
